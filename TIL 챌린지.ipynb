{
 "cells": [
  {
   "cell_type": "markdown",
   "id": "7f101f0a-6d93-485c-877b-ca148547ab86",
   "metadata": {},
   "source": [
    "# 1. array 만들기\n",
    "- np.array() : np.array() 괄호 안에 리스트를 넣어서 생성 **배열 선언할때는 꼭 괄호를 넣는다**\n",
    "- np.ndim : 배열의 차원을 출력\n",
    "- np.shape : 배열이 몇 행 몇 열인지 튜플형태로 반환 (가장 바깥에 있는 배열 개수, 배열 안에 있는 데이터 개수) "
   ]
  },
  {
   "cell_type": "markdown",
   "id": "8a8c2e3e-945d-48c3-ba7b-f2dc11bf6ae1",
   "metadata": {},
   "source": [
    "### 1-1. np.array() - 리스트로 배열 만들기"
   ]
  },
  {
   "cell_type": "code",
   "execution_count": 9,
   "id": "e697e78e-ed9b-439f-b975-9c903ab37738",
   "metadata": {},
   "outputs": [],
   "source": [
    "import numpy as np \n",
    "my_list = [1,2,3]  #타입이 list\n",
    "my_arr = np.array([1,2,3]) # 타입이 numpy.ndarray"
   ]
  },
  {
   "cell_type": "markdown",
   "id": "5363c031-f945-4a5b-8ab1-1502afbc3a0c",
   "metadata": {},
   "source": [
    "### 1-2. np.ndim,  np.shape -데이터 구조"
   ]
  },
  {
   "cell_type": "code",
   "execution_count": 11,
   "id": "5532e685-b02c-42cd-9dd0-f4943a5a391a",
   "metadata": {},
   "outputs": [
    {
     "name": "stdout",
     "output_type": "stream",
     "text": [
      "2\n",
      "(2, 3)\n"
     ]
    }
   ],
   "source": [
    "a = [\n",
    "    [1, 2, 3],\n",
    "    [4, 5, 6]\n",
    "]\n",
    "arr_a = np.array(a)\n",
    "print(arr_a.ndim) # 2 : 2차원\n",
    "print(arr_a.shape)  # (2, 3) : 가장 바깥에 있는 배열개수 = 2, 배열 안 데이터 개수 = 3"
   ]
  },
  {
   "cell_type": "code",
   "execution_count": 14,
   "id": "56ee9c9b-423a-4a45-96a3-be9774ac3858",
   "metadata": {},
   "outputs": [
    {
     "name": "stdout",
     "output_type": "stream",
     "text": [
      "3\n",
      "(4, 3, 2)\n"
     ]
    }
   ],
   "source": [
    "b = [\n",
    "    [[1,2],[5,6],[9,10]],\n",
    "    [[3,4],[7,8],[11,12]],\n",
    "    [[1,2],[2,3],[4,5]],\n",
    "    [[1,1],[2,2],[3,3]]\n",
    "]\n",
    "arr_b = np.array(b)\n",
    "print(arr_b.ndim) # 3차원\n",
    "print(arr_b.shape) # (4, 3, 2) :가장 바깥에 있는 배열 개수 = 4, 그 안에 있는 뱅려 개수 = 3, 데이터 개수 =2"
   ]
  },
  {
   "cell_type": "markdown",
   "id": "b01a07f2-c0c4-4f53-9f91-712f16864dd0",
   "metadata": {},
   "source": [
    "### 1-3 array와 list 비교하기\n",
    "- print(my_list * 2)  => [1,2,3,1,2,3]\n",
    "- print(my_arr * 2) => [2, 4, 6]"
   ]
  },
  {
   "cell_type": "code",
   "execution_count": 33,
   "id": "ed4eab15-19ee-4cea-9f06-fd2b614af9f4",
   "metadata": {},
   "outputs": [
    {
     "name": "stdout",
     "output_type": "stream",
     "text": [
      "[1, 2, 3, 1, 2, 3]\n",
      "[2 4 6]\n",
      "[2, 4, 6]\n"
     ]
    }
   ],
   "source": [
    "print(my_list * 2)  \n",
    "print(my_arr * 2) \n",
    "my_list2 = [i * 2 for i in my_list]  # 리스트에서 이렇게 계산하는 것과 같다\n",
    "print(my_list2)"
   ]
  },
  {
   "cell_type": "markdown",
   "id": "093aae5a-43b4-4fce-a40b-00cc06392de4",
   "metadata": {},
   "source": [
    "# 2. array 생성 함수\n",
    "- np.arange()\n",
    "- np.zeros(shape) :0으로 채워진 배열 생성\n",
    "- np.empty(shape) :초기화된 값으로 배열 생성"
   ]
  },
  {
   "cell_type": "markdown",
   "id": "9f077b32-b4c7-4a73-a3e1-9eec24ac1378",
   "metadata": {},
   "source": [
    "### 2-1 np.arange()"
   ]
  },
  {
   "cell_type": "code",
   "execution_count": 19,
   "id": "7cdb26b6-c5aa-4de0-9fe2-6164412f56bb",
   "metadata": {},
   "outputs": [
    {
     "name": "stdout",
     "output_type": "stream",
     "text": [
      "[0 1 2 3 4 5 6 7 8 9]\n",
      "[0 2 4]\n"
     ]
    }
   ],
   "source": [
    "print(np.arange(10)) # [0 1 2 3 4 5 6 7 8 9] : 0부터 9까지 배열 만들기\n",
    "print(np.arange(0, 5, 2))  # [0 2 4] : 0 부터 4까지 2간격으로 배열 만들기"
   ]
  },
  {
   "cell_type": "markdown",
   "id": "f300e0f5-de92-4abe-aff2-67eb64c50b30",
   "metadata": {},
   "source": [
    "### 2-2 np.zeros(), np.empty()\n"
   ]
  },
  {
   "cell_type": "code",
   "execution_count": 22,
   "id": "35424966-fd24-471a-9c9b-3c4945860794",
   "metadata": {},
   "outputs": [
    {
     "name": "stdout",
     "output_type": "stream",
     "text": [
      "[0. 0. 0.]\n",
      "[[0. 0. 0. 0. 0.]\n",
      " [0. 0. 0. 0. 0.]\n",
      " [0. 0. 0. 0. 0.]\n",
      " [0. 0. 0. 0. 0.]]\n",
      "[[[0.]\n",
      "  [0.]]\n",
      "\n",
      " [[0.]\n",
      "  [0.]]\n",
      "\n",
      " [[0.]\n",
      "  [0.]]]\n"
     ]
    }
   ],
   "source": [
    "print(np.zeros(3)) # [0. 0. 0.]\n",
    "print(np.zeros((4,5)))\n",
    "# [[0. 0. 0. 0. 0.]\n",
    "#  [0. 0. 0. 0. 0.]\n",
    "#  [0. 0. 0. 0. 0.]\n",
    "#  [0. 0. 0. 0. 0.]]\n",
    "print(np.zeros((3,2,1)))\n",
    "# [[[0.]\n",
    "#   [0.]]\n",
    "\n",
    "#  [[0.]\n",
    "#   [0.]]\n",
    "\n",
    "#  [[0.]\n",
    "#   [0.]]]"
   ]
  },
  {
   "cell_type": "code",
   "execution_count": 23,
   "id": "6b1b3a76-d7ef-44ac-a47e-4523c69342c7",
   "metadata": {},
   "outputs": [
    {
     "name": "stdout",
     "output_type": "stream",
     "text": [
      "[[0.0e+000 1.5e-323]\n",
      " [3.0e-323 4.4e-323]]\n"
     ]
    }
   ],
   "source": [
    "print(np.empty((2, 2)))"
   ]
  },
  {
   "cell_type": "markdown",
   "id": "a7812d00-0d5b-473a-a442-ff80da368a4c",
   "metadata": {},
   "source": [
    "# 3. dtype() : 데이터 타입\n",
    "- np.dtype()\n",
    "- np.astype()"
   ]
  },
  {
   "cell_type": "markdown",
   "id": "b726977e-adb5-4d70-b3df-bded47a33b71",
   "metadata": {},
   "source": [
    "### 3-1 np.dtype() : 데이터 타입 확인"
   ]
  },
  {
   "cell_type": "code",
   "execution_count": 26,
   "id": "3a794842-8f17-4f77-8fa6-6c3522defa41",
   "metadata": {},
   "outputs": [
    {
     "name": "stdout",
     "output_type": "stream",
     "text": [
      "int64\n",
      "float64\n"
     ]
    }
   ],
   "source": [
    "arr1 = np.array([1, 2, 3])\n",
    "arr2 = np.array([1.1, 2.2, 3.3])\n",
    "print(arr1.dtype)  #int64 : 정수형 데이터 \n",
    "print(arr2.dtype)  #float64 : 실수형 데이터"
   ]
  },
  {
   "cell_type": "markdown",
   "id": "f64da7eb-ad85-4078-a1a3-ac053ba3af1b",
   "metadata": {},
   "source": [
    "### 3-2 astype() : 형변환"
   ]
  },
  {
   "cell_type": "code",
   "execution_count": 29,
   "id": "fcb8f027-5370-4495-9bc3-b6e39b17b498",
   "metadata": {},
   "outputs": [
    {
     "name": "stdout",
     "output_type": "stream",
     "text": [
      "[1. 2. 3.]\n",
      "[1 2 3]\n"
     ]
    }
   ],
   "source": [
    "float_arr1 = arr1.astype(np.float64) # [1, 2, 3] = > [1. 2. 3.] :실수형으로 변환\n",
    "int_arr2 = arr2.astype(np.int64) # [1.1, 2.2, 3.3] => [1 2 3] :정수형으로 변환, 소수점 아래는 버리기\n",
    "print(float_arr1)\n",
    "print(int_arr2)"
   ]
  },
  {
   "cell_type": "markdown",
   "id": "299af7cf-b4fb-4a8e-bda9-c5d6e91a8784",
   "metadata": {},
   "source": [
    "# 4. 산술연산 \n",
    "- 같은 위치에 있는 값끼리 계산해준다"
   ]
  },
  {
   "cell_type": "code",
   "execution_count": 37,
   "id": "0e2ecc77-b7f7-4d2e-a5d6-c5bb98c63446",
   "metadata": {},
   "outputs": [
    {
     "name": "stdout",
     "output_type": "stream",
     "text": [
      "[[ 2  4  6]\n",
      " [ 8 10 12]]\n",
      "[[ 1  4  9]\n",
      " [16 25 36]]\n",
      "[[1. 1. 1.]\n",
      " [1. 1. 1.]]\n",
      "[[0 0 0]\n",
      " [0 0 0]]\n",
      "[[  1   8  27]\n",
      " [ 64 125 216]]\n"
     ]
    }
   ],
   "source": [
    "arr = np.array([[1,2,3], [4,5,6]])\n",
    "print(arr + arr)\n",
    "print(arr * arr)\n",
    "print(arr / arr)\n",
    "print(arr - arr)\n",
    "print(arr ** 3)"
   ]
  },
  {
   "cell_type": "markdown",
   "id": "2639e635-4d62-43d6-88d4-4da64351f6af",
   "metadata": {},
   "source": [
    "### 4-1. 크기 비교하기"
   ]
  },
  {
   "cell_type": "code",
   "execution_count": 39,
   "id": "30556201-764c-44ab-a640-72db6aaf6344",
   "metadata": {},
   "outputs": [
    {
     "name": "stdout",
     "output_type": "stream",
     "text": [
      "[[False False False]\n",
      " [ True  True  True]]\n"
     ]
    }
   ],
   "source": [
    "arr = np.array([[1,2,3], [4,5,6]])\n",
    "arr2 = np.array([[4,5,6],[1,2,3]])\n",
    "print(arr > arr2) # arr > arr2 이면 True를 반환해준다"
   ]
  },
  {
   "cell_type": "markdown",
   "id": "0a4f3675-4e06-4cd5-a3ec-c4fde6845dc6",
   "metadata": {},
   "source": [
    "# 5. 색인과 슬라이싱"
   ]
  },
  {
   "cell_type": "code",
   "execution_count": 40,
   "id": "7de64e8a-90ca-42d2-86e5-c9690bfe8831",
   "metadata": {},
   "outputs": [],
   "source": [
    "arr3d = np.array([[[1,2,3],[4,5,6],[7,8,9]],\n",
    "          \n",
    "          [[11,12,13],[14,15,16],[17,18,19]],\n",
    "          \n",
    "          [[11,22,33],[44,55,66],[77,88,99]]])"
   ]
  },
  {
   "cell_type": "code",
   "execution_count": 42,
   "id": "25343d53-35a0-45cb-82ea-16ad1152a59a",
   "metadata": {},
   "outputs": [
    {
     "name": "stdout",
     "output_type": "stream",
     "text": [
      "17\n",
      "17\n"
     ]
    }
   ],
   "source": [
    "# 색인을 통해 17 에 접근하기\n",
    "print(arr3d[1][2][0])\n",
    "print(arr3d[1,2,0])"
   ]
  },
  {
   "cell_type": "code",
   "execution_count": 46,
   "id": "91821e0c-9ea5-4899-b88f-82202f7a80e3",
   "metadata": {},
   "outputs": [
    {
     "name": "stdout",
     "output_type": "stream",
     "text": [
      "[33 66]\n",
      "[[ 5  8]\n",
      " [15 18]]\n"
     ]
    }
   ],
   "source": [
    "# 슬라이싱해서 33, 66 구하기\n",
    "print(arr3d[2, :2, 2]) \n",
    "# 슬라이싱해서 5, 8, 15, 18 구하기\n",
    "print(arr3d[:2, 1:, 1])"
   ]
  },
  {
   "cell_type": "code",
   "execution_count": 47,
   "id": "95585d3a-4e7d-42b5-ab29-37bb0c87d2ca",
   "metadata": {},
   "outputs": [
    {
     "name": "stdout",
     "output_type": "stream",
     "text": [
      "[[[ 1  2  3]\n",
      "  [ 4  5  6]\n",
      "  [ 7  8  9]]\n",
      "\n",
      " [[11 12 13]\n",
      "  [14 15 10]\n",
      "  [17 18 10]]\n",
      "\n",
      " [[11 22 33]\n",
      "  [44 55 66]\n",
      "  [77 88 99]]]\n"
     ]
    }
   ],
   "source": [
    "# 슬라이싱해서 16, 19 를 10 으로 바꾸기\n",
    "arr3d[1, 1:, 2] = 10\n",
    "print(arr3d)"
   ]
  },
  {
   "cell_type": "markdown",
   "id": "0437a437-ab2b-4f47-81d2-b4ce0f081aad",
   "metadata": {},
   "source": [
    "# 6. 불리언 값으로 선택하기"
   ]
  },
  {
   "cell_type": "code",
   "execution_count": 48,
   "id": "de847bc0-9bbf-4dbe-b4c1-d009f080e8ad",
   "metadata": {},
   "outputs": [],
   "source": [
    "names = np.array(['hong','kim','lee','hong','lee'])\n",
    "data = np.array([['math', 90],['eng', 100],['math', 99], ['eng', 70], ['eng',100]])"
   ]
  },
  {
   "cell_type": "code",
   "execution_count": 50,
   "id": "930d306d-c8c2-41db-9529-206a0ea89fb5",
   "metadata": {},
   "outputs": [
    {
     "data": {
      "text/plain": [
       "array([['math', '99'],\n",
       "       ['eng', '100']], dtype='<U21')"
      ]
     },
     "execution_count": 50,
     "metadata": {},
     "output_type": "execute_result"
    }
   ],
   "source": [
    "names == 'lee' #array([False, False,  True, False,  True])\n",
    "data[names == 'lee'] #data([False, False,  True, False,  True])"
   ]
  },
  {
   "cell_type": "code",
   "execution_count": 57,
   "id": "22e325c4-c102-4d02-a3c4-16ecc9cfd48c",
   "metadata": {},
   "outputs": [
    {
     "name": "stdout",
     "output_type": "stream",
     "text": [
      "['math' '99']\n",
      "['99' '100']\n",
      "[['math']\n",
      " ['eng']]\n"
     ]
    }
   ],
   "source": [
    "print(data[names=='lee'][0]) #['math' '99']\n",
    "print(data[names=='lee', 1]) #['99','100']\n",
    "print(data[names=='lee', :1]) #[['math'] ['eng']]"
   ]
  },
  {
   "cell_type": "code",
   "execution_count": null,
   "id": "d7d1a949-16ae-4a57-9c95-d733cedd230f",
   "metadata": {},
   "outputs": [],
   "source": []
  },
  {
   "cell_type": "code",
   "execution_count": null,
   "id": "9c63952b-2442-4274-b5ba-fd482a958fb5",
   "metadata": {},
   "outputs": [],
   "source": []
  }
 ],
 "metadata": {
  "kernelspec": {
   "display_name": "Python 3 (ipykernel)",
   "language": "python",
   "name": "python3"
  },
  "language_info": {
   "codemirror_mode": {
    "name": "ipython",
    "version": 3
   },
   "file_extension": ".py",
   "mimetype": "text/x-python",
   "name": "python",
   "nbconvert_exporter": "python",
   "pygments_lexer": "ipython3",
   "version": "3.13.2"
  }
 },
 "nbformat": 4,
 "nbformat_minor": 5
}
