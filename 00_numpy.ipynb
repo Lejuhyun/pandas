{
 "cells": [
  {
   "cell_type": "code",
   "execution_count": 167,
   "id": "462536ea-daf6-40ed-8873-993c0d603ac4",
   "metadata": {},
   "outputs": [],
   "source": [
    "import numpy as np\n",
    "\n",
    "my_array = np.array(1000000)   #넘파이에 1000000개짜리 리스트를 만들어줘\n",
    "my_list = list(range(1000000))\n"
   ]
  },
  {
   "cell_type": "code",
   "execution_count": 7,
   "id": "209d9e3c-8a2f-4ae6-819e-04d21f423658",
   "metadata": {},
   "outputs": [
    {
     "name": "stdout",
     "output_type": "stream",
     "text": [
      "49.6 ms ± 976 μs per loop (mean ± std. dev. of 7 runs, 10 loops each)\n",
      "1.06 μs ± 23.5 ns per loop (mean ± std. dev. of 7 runs, 1,000,000 loops each)\n"
     ]
    }
   ],
   "source": [
    "# array와 list 비교하기\n",
    "%timeit my_list2 = [i*2 for i in my_list]   #list comprehension\n",
    "%timeit my_array2 = my_array * 2"
   ]
  },
  {
   "cell_type": "code",
   "execution_count": 9,
   "id": "7bf9aefa-1e8d-4a20-aa14-6c48730fc774",
   "metadata": {},
   "outputs": [
    {
     "name": "stdout",
     "output_type": "stream",
     "text": [
      "[[   1.     1.2    3. ]\n",
      " [-123.   123.     0. ]]\n"
     ]
    }
   ],
   "source": [
    "a = [\n",
    "    [1, 1.2, 3],\n",
    "    [-123, 123, 0]\n",
    "]\n",
    "data = np.array(a)\n",
    "print(data)  #리스트에 소수가 포함되어 있으면, 정수도 소수로 바꿔서 형태를 맞춰줌"
   ]
  },
  {
   "cell_type": "code",
   "execution_count": 11,
   "id": "ddac07b9-77eb-432e-81e6-c1868734e6f8",
   "metadata": {},
   "outputs": [
    {
     "name": "stdout",
     "output_type": "stream",
     "text": [
      "[[   10.    12.    30.]\n",
      " [-1230.  1230.     0.]]\n",
      "[[   2.     2.4    6. ]\n",
      " [-246.   246.     0. ]]\n"
     ]
    }
   ],
   "source": [
    "# 0차원 : 스칼라(scalar), 1차원 : 벡터(vector), \n",
    "# 2차원 : 행렬(matrix), 3차원: 텐서(tensor)\n",
    "print(data * 10)  \n",
    "print(data + data) #똑같은 위치에 있는 애들끼리 더해줌"
   ]
  },
  {
   "cell_type": "code",
   "execution_count": 15,
   "id": "f994cc7c-8b37-4682-a78c-a66497a0befa",
   "metadata": {},
   "outputs": [
    {
     "name": "stdout",
     "output_type": "stream",
     "text": [
      "(2, 3)\n",
      "float64\n"
     ]
    }
   ],
   "source": [
    "print(data.shape) #(가장 바깥에 있는 배열 개수, 배열 안에 있는 데이터 개수)\n",
    "# (2,3) = 2행 3열\n",
    "print(data.dtype) # 안에 있는 데이터 유형을 말해준다"
   ]
  },
  {
   "cell_type": "code",
   "execution_count": 152,
   "id": "0ce72f39-514b-4c23-9d03-e5cacf77c17c",
   "metadata": {},
   "outputs": [
    {
     "name": "stdout",
     "output_type": "stream",
     "text": [
      "(2, 3, 3)\n"
     ]
    }
   ],
   "source": [
    "b = [\n",
    "    [[1, 2, 3],[4, 5, 6],[7, 8, 9]],\n",
    "    [[1, 2, 3],[4, 5, 6],[7, 8, 9]]\n",
    "]\n",
    "data_2 = np.array(b)\n",
    "print(data_2.shape)"
   ]
  },
  {
   "cell_type": "markdown",
   "id": "f2af63cf-dea5-4054-bd0e-cca2247c8e15",
   "metadata": {},
   "source": [
    "# ndarray 생성하기\n",
    "- np.array()\n",
    "- np.ndim\n",
    "- np.shape"
   ]
  },
  {
   "cell_type": "code",
   "execution_count": 20,
   "id": "b8a54f6e-a818-43bc-9844-798adf43c346",
   "metadata": {},
   "outputs": [
    {
     "name": "stdout",
     "output_type": "stream",
     "text": [
      "[1 2 3 4 5]\n",
      "<class 'numpy.ndarray'>\n"
     ]
    }
   ],
   "source": [
    "#리스트를 array형태로 바꾸기\n",
    "\n",
    "data1 = [1,2,3,4,5]\n",
    "arr1  = np.array(data1)\n",
    "print(arr1)\n",
    "print(type(arr1))"
   ]
  },
  {
   "cell_type": "code",
   "execution_count": 23,
   "id": "99cf7e61-709d-445c-8dd6-38fb010809fb",
   "metadata": {},
   "outputs": [
    {
     "name": "stdout",
     "output_type": "stream",
     "text": [
      "[[1.1 2.2]\n",
      " [3.3 4.4]]\n",
      "<class 'numpy.ndarray'>\n"
     ]
    }
   ],
   "source": [
    "arr2 = np.array([[1.1, 2.2],[3.3, 4.4]])\n",
    "print(arr2)\n",
    "print(type(arr2))"
   ]
  },
  {
   "cell_type": "code",
   "execution_count": 26,
   "id": "f485b7dc-b092-410e-aa4a-a7c7b9aa927c",
   "metadata": {},
   "outputs": [
    {
     "name": "stdout",
     "output_type": "stream",
     "text": [
      "1\n",
      "2\n"
     ]
    }
   ],
   "source": [
    "#차원\n",
    "\n",
    "print(arr1.ndim)\n",
    "print(arr2.ndim)"
   ]
  },
  {
   "cell_type": "code",
   "execution_count": 27,
   "id": "6261c352-2c9b-4d3b-861e-c4e1f5f91779",
   "metadata": {},
   "outputs": [
    {
     "name": "stdout",
     "output_type": "stream",
     "text": [
      "(5,)\n",
      "(2, 2)\n"
     ]
    }
   ],
   "source": [
    "# 데이터의 구조\n",
    "\n",
    "print(arr1.shape)\n",
    "print(arr2.shape)"
   ]
  },
  {
   "cell_type": "code",
   "execution_count": 73,
   "id": "fd744d3b-0e8a-4f79-844e-0e0cf3e7918f",
   "metadata": {},
   "outputs": [
    {
     "name": "stdout",
     "output_type": "stream",
     "text": [
      "[0. 0. 0. 0. 0. 0. 0. 0. 0. 0.]\n",
      "[0, 0, 0, 0, 0, 0, 0, 0, 0, 0]\n",
      "[[0. 0. 0. 0. 0.]\n",
      " [0. 0. 0. 0. 0.]\n",
      " [0. 0. 0. 0. 0.]\n",
      " [0. 0. 0. 0. 0.]\n",
      " [0. 0. 0. 0. 0.]]\n",
      "[[[4.67296746e-307 1.69121096e-306]\n",
      "  [9.45694586e-308 1.42413555e-306]]\n",
      "\n",
      " [[1.78019082e-306 1.37959740e-306]\n",
      "  [6.23057349e-307 1.42419530e-306]]]\n"
     ]
    }
   ],
   "source": [
    "#데이터 구조 파악하기\n",
    "\n",
    "print(np.zeros(10)) \n",
    "print([0]*10)  #파이썬\n",
    "print(np.zeros(  (5,5)  ))   \n",
    "print(np.empty((2, 2, 2)))"
   ]
  },
  {
   "cell_type": "code",
   "execution_count": 74,
   "id": "e2b742c9-762e-489a-a680-6af73b0b918c",
   "metadata": {},
   "outputs": [
    {
     "name": "stdout",
     "output_type": "stream",
     "text": [
      "[[[4.67296746e-307 1.69121096e-306]\n",
      "  [9.45694586e-308 1.42413555e-306]]\n",
      "\n",
      " [[1.78019082e-306 1.37959740e-306]\n",
      "  [6.23057349e-307 1.42419530e-306]]]\n"
     ]
    }
   ],
   "source": [
    "print(np.empty((2,2,2)))"
   ]
  },
  {
   "cell_type": "code",
   "execution_count": 41,
   "id": "143ef132-150e-4cd4-a174-07a845c5cca1",
   "metadata": {},
   "outputs": [
    {
     "name": "stdout",
     "output_type": "stream",
     "text": [
      "[0 1 2 3 4 5 6 7 8 9]\n"
     ]
    }
   ],
   "source": [
    "print(np.arange(10))  #0부터 9까지 배열 만들기"
   ]
  },
  {
   "cell_type": "markdown",
   "id": "c0445d2b-f6eb-485c-b98f-d9d60bbfe3b8",
   "metadata": {},
   "source": [
    "# ndarray 자료형"
   ]
  },
  {
   "cell_type": "code",
   "execution_count": 45,
   "id": "5307ca47-9169-49d1-8c63-2195bcc8bfc8",
   "metadata": {},
   "outputs": [
    {
     "name": "stdout",
     "output_type": "stream",
     "text": [
      "float64\n",
      "int32\n"
     ]
    }
   ],
   "source": [
    "#형변환\n",
    "\n",
    "arr1 = np.array([1,2,3], dtype = np.float64)\n",
    "arr2 = np.array([1,2,3], dtype = np.int32)\n",
    "\n",
    "print(arr1.dtype)  #정수형태\n",
    "print(arr2.dtype)  #정수형태"
   ]
  },
  {
   "cell_type": "code",
   "execution_count": 49,
   "id": "4070387a-b348-4457-bcbd-51a31a0ed91a",
   "metadata": {},
   "outputs": [
    {
     "name": "stdout",
     "output_type": "stream",
     "text": [
      "int64\n",
      "[1. 2. 3.]\n",
      "float64\n"
     ]
    }
   ],
   "source": [
    "# 형변환 2\n",
    "\n",
    "arr1 = np.array([1,2,3])\n",
    "print(arr1.dtype)\n",
    "float_arr1 = arr1.astype(np.float64)\n",
    "print(float_arr1) #소수로 바뀜\n",
    "print(float_arr1.dtype)"
   ]
  },
  {
   "cell_type": "code",
   "execution_count": 54,
   "id": "a7cc61b6-967e-484f-a818-632b66d1af17",
   "metadata": {},
   "outputs": [
    {
     "name": "stdout",
     "output_type": "stream",
     "text": [
      "float64\n",
      "[1 2 3]\n",
      "int64\n"
     ]
    }
   ],
   "source": [
    "arr2 = np.array([1.1,2.2,3.3])\n",
    "print(arr2.dtype)\n",
    "int_arr2 = arr2.astype(np.int64) # 정수형으로 바꿀 때 소수점 뒤는 버림\n",
    "print(int_arr2)\n",
    "print(int_arr2.dtype)"
   ]
  },
  {
   "cell_type": "markdown",
   "id": "4bff8278-db40-4f89-b5fc-cee4de5d6a16",
   "metadata": {},
   "source": [
    "## 산술 연산"
   ]
  },
  {
   "cell_type": "code",
   "execution_count": 63,
   "id": "192dbdb7-6b2e-44ae-af1e-9318c26846e7",
   "metadata": {},
   "outputs": [
    {
     "name": "stdout",
     "output_type": "stream",
     "text": [
      "[[1 2 3]\n",
      " [4 5 6]]\n",
      "[[ 1  4  9]\n",
      " [16 25 36]]\n",
      "[[ 2  4  6]\n",
      " [ 8 10 12]]\n",
      "[[1.         0.5        0.33333333]\n",
      " [0.25       0.2        0.16666667]]\n",
      "[[  1   8  27]\n",
      " [ 64 125 216]]\n"
     ]
    }
   ],
   "source": [
    "arr = np.array([[1,2,3],[4,5,6]])\n",
    "print(arr)\n",
    "print(arr * arr) #같은 위치에 있는 값끼리 곱한다\n",
    "print(arr + arr)\n",
    "print(1 / arr)\n",
    "print(arr ** 3) # 세제곱"
   ]
  },
  {
   "cell_type": "code",
   "execution_count": 72,
   "id": "c096eb89-17df-4fb4-a42d-4796725d2473",
   "metadata": {},
   "outputs": [
    {
     "name": "stdout",
     "output_type": "stream",
     "text": [
      "[[1 2 3]\n",
      " [4 5 6]]\n",
      "[[3 2 1]\n",
      " [1 2 3]]\n",
      "[[False False  True]\n",
      " [ True  True  True]]\n",
      "[[False False  True]\n",
      " [False False False]]\n"
     ]
    }
   ],
   "source": [
    "#크기 비교하기\n",
    "\n",
    "arr2 = np.array([[3,2,1],[1,2,3]])\n",
    "print(arr)\n",
    "print(arr2)\n",
    "print(arr > arr2) # 같은 위치에 있는 데이터 크기비교\n",
    "print(arr == 3) #데이터가 3인 애만 True표시"
   ]
  },
  {
   "cell_type": "markdown",
   "id": "e7acf210-5eb1-4599-9093-849d84db0632",
   "metadata": {},
   "source": [
    "## 색인과 슬라이싱"
   ]
  },
  {
   "cell_type": "code",
   "execution_count": 80,
   "id": "9bf0de3e-c1c3-43fc-a688-876687a1845e",
   "metadata": {},
   "outputs": [],
   "source": [
    "arr = np.arange(10)"
   ]
  },
  {
   "cell_type": "code",
   "execution_count": 81,
   "id": "cf1f8257-d8d0-48a1-afb1-569ca100fef1",
   "metadata": {},
   "outputs": [
    {
     "name": "stdout",
     "output_type": "stream",
     "text": [
      "[0 1 2 3 4 5 6 7 8 9]\n"
     ]
    }
   ],
   "source": [
    "print(arr)"
   ]
  },
  {
   "cell_type": "code",
   "execution_count": 82,
   "id": "483601af-564d-4f9c-b0cb-9656b0369a13",
   "metadata": {},
   "outputs": [
    {
     "name": "stdout",
     "output_type": "stream",
     "text": [
      "7\n",
      "[2 3 4]\n"
     ]
    }
   ],
   "source": [
    "print(arr[7])\n",
    "print(arr[2:5])"
   ]
  },
  {
   "cell_type": "code",
   "execution_count": 85,
   "id": "503910fb-3500-42c4-88e3-7301ebe1a102",
   "metadata": {},
   "outputs": [
    {
     "name": "stdout",
     "output_type": "stream",
     "text": [
      "[ 0  1 10 10 10  5  6  7  8  9]\n"
     ]
    }
   ],
   "source": [
    "arr[2:5] = 10 #파이썬에는 없는 문법\n",
    "print(arr)  #2번째부터 4번째 데이터가 10이된다"
   ]
  },
  {
   "cell_type": "code",
   "execution_count": 86,
   "id": "4f875384-22cb-4c75-bcff-b9356a4aceb9",
   "metadata": {},
   "outputs": [
    {
     "name": "stdout",
     "output_type": "stream",
     "text": [
      "[1, 2, 3, 4, 5]\n"
     ]
    }
   ],
   "source": [
    "py_list = [1,2,3,4,5]\n",
    "py_list[2:3].pop()\n",
    "print(py_list) # 파이썬에서는 원본이 변하지 않음"
   ]
  },
  {
   "cell_type": "code",
   "execution_count": 88,
   "id": "017e7525-cd0f-4c3d-8f52-86089086d2eb",
   "metadata": {},
   "outputs": [
    {
     "name": "stdout",
     "output_type": "stream",
     "text": [
      "[[1 2 3]\n",
      " [4 5 6]]\n"
     ]
    }
   ],
   "source": [
    "arr = np.array([[1,2,3],[4,5,6]])\n",
    "print(arr) #2행 3열"
   ]
  },
  {
   "cell_type": "code",
   "execution_count": 91,
   "id": "4c6c5710-8d48-4d71-84d3-eb0510c232ce",
   "metadata": {},
   "outputs": [
    {
     "name": "stdout",
     "output_type": "stream",
     "text": [
      "5\n",
      "5\n"
     ]
    }
   ],
   "source": [
    "print(arr[1][1])  # 5에접근하는 방법\n",
    "print(arr[1,1])"
   ]
  },
  {
   "cell_type": "code",
   "execution_count": 168,
   "id": "3cf15263-3d41-4351-8586-78c25235eace",
   "metadata": {},
   "outputs": [],
   "source": [
    "arr3d = np.array([[[1,2,3],[4,5,6],[7,8,9]],\n",
    "          \n",
    "          [[11,12,13],[14,15,16],[17,18,19]],\n",
    "          \n",
    "          [[11,22,33],[44,55,66],[77,88,99]]])"
   ]
  },
  {
   "cell_type": "code",
   "execution_count": 171,
   "id": "1784b409-ea37-4b7f-8f27-d99f5d803118",
   "metadata": {},
   "outputs": [
    {
     "data": {
      "text/plain": [
       "array([13, 16])"
      ]
     },
     "execution_count": 171,
     "metadata": {},
     "output_type": "execute_result"
    }
   ],
   "source": [
    "arr3d[1,:2, 2]"
   ]
  },
  {
   "cell_type": "code",
   "execution_count": 96,
   "id": "dfc110d1-ebf5-4b62-b8f3-738e28fa4fbe",
   "metadata": {},
   "outputs": [
    {
     "name": "stdout",
     "output_type": "stream",
     "text": [
      "(3, 3, 3)\n"
     ]
    }
   ],
   "source": [
    "print(arr3d.shape)"
   ]
  },
  {
   "cell_type": "code",
   "execution_count": 100,
   "id": "a8f07034-5cf7-46cd-af66-13fca00bc4c2",
   "metadata": {},
   "outputs": [
    {
     "name": "stdout",
     "output_type": "stream",
     "text": [
      "22\n",
      "22\n"
     ]
    }
   ],
   "source": [
    "print(arr3d[2][0][1])\n",
    "print(arr3d[2,0,1])"
   ]
  },
  {
   "cell_type": "code",
   "execution_count": 106,
   "id": "49994537-2964-49b1-b7a6-1ba4e566032d",
   "metadata": {},
   "outputs": [
    {
     "name": "stdout",
     "output_type": "stream",
     "text": [
      "[[[6]\n",
      "  [9]]]\n",
      "[[6]\n",
      " [9]]\n"
     ]
    }
   ],
   "source": [
    "print(arr3d[:1, 1:, 2:])\n",
    "print(arr3d[0, 1:, 2:]) # 인덱싱으로 접근하면 차원이 하나 줄어든다"
   ]
  },
  {
   "cell_type": "code",
   "execution_count": 107,
   "id": "d4068f55-8cdc-4665-89f6-5aae46f09ab7",
   "metadata": {},
   "outputs": [
    {
     "name": "stdout",
     "output_type": "stream",
     "text": [
      "[[[   1    2    3]\n",
      "  [   4    5 9999]\n",
      "  [   7    8 9999]]\n",
      "\n",
      " [[  11   12   13]\n",
      "  [  14   15   16]\n",
      "  [  17   18   19]]\n",
      "\n",
      " [[  11   22   33]\n",
      "  [  44   55   66]\n",
      "  [  77   88   99]]]\n"
     ]
    }
   ],
   "source": [
    "arr3d[0, 1:, 2:] = 9999\n",
    "print(arr3d)"
   ]
  },
  {
   "cell_type": "markdown",
   "id": "35955f1b-8577-41cd-a5ac-054d5ba76fa2",
   "metadata": {},
   "source": [
    "## 불리언 값으로 선택"
   ]
  },
  {
   "cell_type": "code",
   "execution_count": 109,
   "id": "79dc069b-8241-495e-9fd3-480d3ec2c500",
   "metadata": {},
   "outputs": [],
   "source": [
    "names = np.array(['hong','kim','hong','kim'])\n",
    "data = np.array([['math', 60],['math', 90],['eng', 70],['eng', 50]])"
   ]
  },
  {
   "cell_type": "code",
   "execution_count": 110,
   "id": "f4b5557e-f81a-4567-a390-e309d54100f1",
   "metadata": {},
   "outputs": [
    {
     "data": {
      "text/plain": [
       "array([ True, False,  True, False])"
      ]
     },
     "execution_count": 110,
     "metadata": {},
     "output_type": "execute_result"
    }
   ],
   "source": [
    "names == 'hong' "
   ]
  },
  {
   "cell_type": "code",
   "execution_count": 112,
   "id": "38539540-c288-4e8e-ac7d-aa26d8404788",
   "metadata": {},
   "outputs": [
    {
     "data": {
      "text/plain": [
       "array([['math', '60'],\n",
       "       ['eng', '70']], dtype='<U21')"
      ]
     },
     "execution_count": 112,
     "metadata": {},
     "output_type": "execute_result"
    }
   ],
   "source": [
    "# data[[True, False, True, False]]\n",
    "\n",
    "data[names == 'hong'] #True 위치에 있는 데이터만 불러온다\n",
    "#특정 조건에 맞는 데이터를 고를 때"
   ]
  },
  {
   "cell_type": "code",
   "execution_count": 154,
   "id": "ebc6c573-887c-43d3-83df-b360d767e259",
   "metadata": {},
   "outputs": [
    {
     "name": "stdout",
     "output_type": "stream",
     "text": [
      "['60' '70']\n",
      "[['math']\n",
      " ['eng']]\n"
     ]
    }
   ],
   "source": [
    "print(data[names == 'hong',1])\n",
    "print(data[names == 'hong', :1])"
   ]
  },
  {
   "cell_type": "code",
   "execution_count": 117,
   "id": "6f1ff0fc-e8ce-43f3-88fb-e8a7d8e3c7bd",
   "metadata": {},
   "outputs": [
    {
     "name": "stdout",
     "output_type": "stream",
     "text": [
      "[False  True False  True]\n",
      "[False  True False  True]\n"
     ]
    }
   ],
   "source": [
    "print(names != 'hong')\n",
    "print(~(names == 'hong')) #계산 결과의 역을 취해줌"
   ]
  },
  {
   "cell_type": "code",
   "execution_count": 118,
   "id": "3f302166-beeb-4930-8cce-9139cedf0cad",
   "metadata": {},
   "outputs": [
    {
     "data": {
      "text/plain": [
       "array([['math', '90'],\n",
       "       ['eng', '50']], dtype='<U21')"
      ]
     },
     "execution_count": 118,
     "metadata": {},
     "output_type": "execute_result"
    }
   ],
   "source": [
    "cond = names == 'kim'\n",
    "data[cond]"
   ]
  },
  {
   "cell_type": "markdown",
   "id": "71c80e27-76a4-4a0e-ab4c-66d701633eb9",
   "metadata": {},
   "source": [
    "## 팬시 색인  (fancy indexing)"
   ]
  },
  {
   "cell_type": "code",
   "execution_count": 121,
   "id": "3ddd5026-ea28-4903-b8ad-e35a15699c9b",
   "metadata": {},
   "outputs": [
    {
     "name": "stdout",
     "output_type": "stream",
     "text": [
      "[[0. 0. 0. 0.]\n",
      " [0. 0. 0. 0.]\n",
      " [0. 0. 0. 0.]\n",
      " [0. 0. 0. 0.]\n",
      " [0. 0. 0. 0.]\n",
      " [0. 0. 0. 0.]\n",
      " [0. 0. 0. 0.]\n",
      " [0. 0. 0. 0.]]\n"
     ]
    }
   ],
   "source": [
    "arr = np.zeros((8,4))\n",
    "print(arr)"
   ]
  },
  {
   "cell_type": "code",
   "execution_count": 122,
   "id": "ef351119-24cd-43d5-9f87-e2c2359673a9",
   "metadata": {},
   "outputs": [
    {
     "name": "stdout",
     "output_type": "stream",
     "text": [
      "[[0. 0. 0. 0.]\n",
      " [1. 1. 1. 1.]\n",
      " [2. 2. 2. 2.]\n",
      " [3. 3. 3. 3.]\n",
      " [4. 4. 4. 4.]\n",
      " [5. 5. 5. 5.]\n",
      " [6. 6. 6. 6.]\n",
      " [7. 7. 7. 7.]]\n"
     ]
    }
   ],
   "source": [
    "for i in range(8):\n",
    "    arr[i] = i\n",
    "print(arr)"
   ]
  },
  {
   "cell_type": "code",
   "execution_count": 124,
   "id": "a72415d0-d164-46b1-9040-98eb7076fd45",
   "metadata": {},
   "outputs": [
    {
     "data": {
      "text/plain": [
       "array([[4., 4., 4., 4.],\n",
       "       [3., 3., 3., 3.],\n",
       "       [0., 0., 0., 0.],\n",
       "       [5., 5., 5., 5.]])"
      ]
     },
     "execution_count": 124,
     "metadata": {},
     "output_type": "execute_result"
    }
   ],
   "source": [
    "arr[[4,3,0,5]]"
   ]
  },
  {
   "cell_type": "code",
   "execution_count": 126,
   "id": "bf03e463-a0f3-4fe3-9ebc-e2366582093a",
   "metadata": {},
   "outputs": [
    {
     "data": {
      "text/plain": [
       "array([[5., 5., 5., 5.],\n",
       "       [3., 3., 3., 3.],\n",
       "       [7., 7., 7., 7.]])"
      ]
     },
     "execution_count": 126,
     "metadata": {},
     "output_type": "execute_result"
    }
   ],
   "source": [
    "arr[[-3,-5,-1]]"
   ]
  },
  {
   "cell_type": "code",
   "execution_count": 134,
   "id": "6561b851-8063-409c-8f66-d00e18379303",
   "metadata": {},
   "outputs": [
    {
     "name": "stdout",
     "output_type": "stream",
     "text": [
      "[[ 0  1  2  3]\n",
      " [ 4  5  6  7]\n",
      " [ 8  9 10 11]\n",
      " [12 13 14 15]\n",
      " [16 17 18 19]\n",
      " [20 21 22 23]\n",
      " [24 25 26 27]\n",
      " [28 29 30 31]]\n"
     ]
    }
   ],
   "source": [
    "arr = np.arange(32).reshape(8,4)  #행렬의 shape을 변형할 때\n",
    "print(arr)"
   ]
  },
  {
   "cell_type": "code",
   "execution_count": 136,
   "id": "745e7b65-f2fa-42af-8175-ab93543d7bc6",
   "metadata": {},
   "outputs": [
    {
     "data": {
      "text/plain": [
       "array([ 6, 23])"
      ]
     },
     "execution_count": 136,
     "metadata": {},
     "output_type": "execute_result"
    }
   ],
   "source": [
    "arr[[1,5],[2,3]]   #=> arr[1,2], arr[5,3] 이 선택됨"
   ]
  },
  {
   "cell_type": "code",
   "execution_count": 139,
   "id": "4b714e65-d037-4034-ac36-6370ad818af8",
   "metadata": {},
   "outputs": [
    {
     "data": {
      "text/plain": [
       "array([[ 6,  7],\n",
       "       [22, 23]])"
      ]
     },
     "execution_count": 139,
     "metadata": {},
     "output_type": "execute_result"
    }
   ],
   "source": [
    "arr[[1,5]][:,[2,3]]"
   ]
  },
  {
   "cell_type": "markdown",
   "id": "70bba8e4-71e7-4b65-bdec-ae89a571ecd5",
   "metadata": {},
   "source": [
    "## 배열 전치"
   ]
  },
  {
   "cell_type": "code",
   "execution_count": 144,
   "id": "93c33071-4696-4c61-bb68-6d83a54e73e4",
   "metadata": {},
   "outputs": [
    {
     "name": "stdout",
     "output_type": "stream",
     "text": [
      "[[ 0  1  2  3  4]\n",
      " [ 5  6  7  8  9]\n",
      " [10 11 12 13 14]]\n"
     ]
    }
   ],
   "source": [
    "arr = np.arange(15).reshape(3,5)\n",
    "print(arr)"
   ]
  },
  {
   "cell_type": "code",
   "execution_count": 143,
   "id": "c98bb099-8661-43b7-9ef0-140a0fdfbeb3",
   "metadata": {},
   "outputs": [
    {
     "name": "stdout",
     "output_type": "stream",
     "text": [
      "[[ 0  5 10]\n",
      " [ 1  6 11]\n",
      " [ 2  7 12]\n",
      " [ 3  8 13]\n",
      " [ 4  9 14]]\n"
     ]
    }
   ],
   "source": [
    "print(arr.T)"
   ]
  },
  {
   "cell_type": "code",
   "execution_count": 149,
   "id": "1e3740e5-b146-4326-a6ff-865c5d2e1ed6",
   "metadata": {},
   "outputs": [
    {
     "name": "stdout",
     "output_type": "stream",
     "text": [
      "[[ 30  80 130]\n",
      " [ 80 255 430]\n",
      " [130 430 730]]\n",
      "[[ 30  80 130]\n",
      " [ 80 255 430]\n",
      " [130 430 730]]\n"
     ]
    }
   ],
   "source": [
    "# 행렬의 곱 (내적)\n",
    "print(arr @ arr.T)\n",
    "print(np.dot(arr, arr.T))"
   ]
  },
  {
   "cell_type": "markdown",
   "id": "0c1dad7b-09f3-4610-8f3b-d2d2897fcce6",
   "metadata": {},
   "source": [
    "## numpy 함수"
   ]
  },
  {
   "cell_type": "code",
   "execution_count": 156,
   "id": "7662f666-057a-461b-9988-ed80c7742907",
   "metadata": {},
   "outputs": [
    {
     "name": "stdout",
     "output_type": "stream",
     "text": [
      "[[ 0.61186327 -0.06176759 -0.28646565]\n",
      " [-0.43438008  0.32843473  1.02328927]\n",
      " [-0.98342744  0.75188712 -1.07683767]]\n"
     ]
    }
   ],
   "source": [
    "samples = np.random.standard_normal(size = (3,3))\n",
    "print(samples)"
   ]
  },
  {
   "cell_type": "code",
   "execution_count": 160,
   "id": "dcf274a2-954b-493c-a9ef-6ca2d6add533",
   "metadata": {},
   "outputs": [
    {
     "name": "stdout",
     "output_type": "stream",
     "text": [
      "[[0.7822169         nan        nan]\n",
      " [       nan 0.57309225 1.01157761]\n",
      " [       nan 0.86711425        nan]]\n"
     ]
    },
    {
     "name": "stderr",
     "output_type": "stream",
     "text": [
      "C:\\Users\\1-15\\AppData\\Local\\Temp\\ipykernel_13532\\2691094134.py:1: RuntimeWarning: invalid value encountered in sqrt\n",
      "  arr1 = np.sqrt(samples)\n"
     ]
    }
   ],
   "source": [
    "arr1 = np.sqrt(samples)\n",
    "print(arr1)# 음수를 sqrt하면 nan(결측치)출력"
   ]
  },
  {
   "cell_type": "code",
   "execution_count": 162,
   "id": "9c30058e-f648-47e3-95e9-3632ebda3d5e",
   "metadata": {},
   "outputs": [
    {
     "name": "stdout",
     "output_type": "stream",
     "text": [
      "[[0.61186327 0.06176759 0.28646565]\n",
      " [0.43438008 0.32843473 1.02328927]\n",
      " [0.98342744 0.75188712 1.07683767]]\n"
     ]
    }
   ],
   "source": [
    "arr2 = np.abs(samples) #절대값\n",
    "print(arr2)"
   ]
  },
  {
   "cell_type": "code",
   "execution_count": 163,
   "id": "36fd5226-5066-4284-a6cb-2dabd928ae7a",
   "metadata": {},
   "outputs": [
    {
     "data": {
      "text/plain": [
       "array([[False,  True,  True],\n",
       "       [ True, False, False],\n",
       "       [ True, False,  True]])"
      ]
     },
     "execution_count": 163,
     "metadata": {},
     "output_type": "execute_result"
    }
   ],
   "source": [
    "np.isnan(arr1)"
   ]
  },
  {
   "cell_type": "code",
   "execution_count": null,
   "id": "5475866e-b84e-4c28-b4b4-3e1f9e8d2b99",
   "metadata": {},
   "outputs": [],
   "source": []
  }
 ],
 "metadata": {
  "kernelspec": {
   "display_name": "Python 3 (ipykernel)",
   "language": "python",
   "name": "python3"
  },
  "language_info": {
   "codemirror_mode": {
    "name": "ipython",
    "version": 3
   },
   "file_extension": ".py",
   "mimetype": "text/x-python",
   "name": "python",
   "nbconvert_exporter": "python",
   "pygments_lexer": "ipython3",
   "version": "3.13.2"
  }
 },
 "nbformat": 4,
 "nbformat_minor": 5
}
